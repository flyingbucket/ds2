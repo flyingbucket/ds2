{
 "cells": [
  {
   "cell_type": "code",
   "execution_count": 10,
   "id": "c300fbf9",
   "metadata": {},
   "outputs": [],
   "source": [
    "import pandas as pd\n",
    "import numpy as np\n",
    "from statsmodels.stats.proportion import proportion_confint\n",
    "golden_label=pd.read_csv(\"data/total_labeled.csv\")['income']\n",
    "pseudo_label=pd.read_csv(\"data/total_unlabeled_pred.csv\")['income']"
   ]
  },
  {
   "cell_type": "code",
   "execution_count": 11,
   "id": "ebd3b0f5",
   "metadata": {},
   "outputs": [
    {
     "name": "stdout",
     "output_type": "stream",
     "text": [
      "golden success:  2412\n",
      "pseudo success:  7568\n",
      "golden size:  10000\n",
      "pseudo size:  38842\n"
     ]
    }
   ],
   "source": [
    "golden_success=np.sum(golden_label)\n",
    "pseudo_success=np.sum(pseudo_label)\n",
    "n_golden=len(golden_label)\n",
    "n_pseudo=len(pseudo_label)\n",
    "print(\"golden success: \", golden_success)\n",
    "print(\"pseudo success: \", pseudo_success)\n",
    "print(\"golden size: \", n_golden)\n",
    "print(\"pseudo size: \", n_pseudo)"
   ]
  },
  {
   "cell_type": "code",
   "execution_count": 13,
   "id": "c1b2f169",
   "metadata": {},
   "outputs": [
    {
     "name": "stdout",
     "output_type": "stream",
     "text": [
      "golden ci:  0.234 0.248\n",
      "pseudo ci:  0.192 0.198\n",
      "golden ci width:  0.014\n",
      "pseudo ci width:  0.007\n"
     ]
    }
   ],
   "source": [
    "golden_ci_low, golden_ci_high = proportion_confint(count=golden_success, nobs=n_golden, alpha=0.1, method='wilson')\n",
    "pseudo_ci_low, pseudo_ci_high = proportion_confint(count=pseudo_success, nobs=n_pseudo, alpha=0.1, method='wilson')\n",
    "print(\"golden ci: \", f\"{golden_ci_low:.3f}\", f\"{golden_ci_high:.3f}\")\n",
    "print(\"pseudo ci: \", f\"{pseudo_ci_low:.3f}\", f\"{pseudo_ci_high:.3f}\")\n",
    "print(\"golden ci width: \", f\"{golden_ci_high-golden_ci_low:.3f}\")\n",
    "print(\"pseudo ci width: \", f\"{pseudo_ci_high-pseudo_ci_low:.3f}\")\n"
   ]
  },
  {
   "cell_type": "code",
   "execution_count": null,
   "id": "6d1a8109",
   "metadata": {},
   "outputs": [],
   "source": []
  }
 ],
 "metadata": {
  "kernelspec": {
   "display_name": "base",
   "language": "python",
   "name": "python3"
  },
  "language_info": {
   "codemirror_mode": {
    "name": "ipython",
    "version": 3
   },
   "file_extension": ".py",
   "mimetype": "text/x-python",
   "name": "python",
   "nbconvert_exporter": "python",
   "pygments_lexer": "ipython3",
   "version": "3.13.2"
  }
 },
 "nbformat": 4,
 "nbformat_minor": 5
}
