{
 "cells": [
  {
   "cell_type": "code",
   "execution_count": 37,
   "id": "c300fbf9",
   "metadata": {},
   "outputs": [],
   "source": [
    "import pandas as pd\n",
    "import numpy as np\n",
    "from statsmodels.stats.proportion import proportion_confint\n",
    "golden_label=pd.read_csv(\"data/total_labeled.csv\")['income']\n",
    "pseudo_label=pd.read_csv(\"data/total_unlabeled_pred.csv\")['income']\n",
    "concated_label=pd.concat([golden_label,pseudo_label],axis=0)"
   ]
  },
  {
   "cell_type": "code",
   "execution_count": 38,
   "id": "ebd3b0f5",
   "metadata": {},
   "outputs": [
    {
     "name": "stdout",
     "output_type": "stream",
     "text": [
      "golden success:  2412\n",
      "pseudo success:  7568\n",
      "golden size:  10000\n",
      "pseudo size:  38842\n"
     ]
    }
   ],
   "source": [
    "golden_success=np.sum(golden_label)\n",
    "pseudo_success=np.sum(pseudo_label)\n",
    "n_golden=len(golden_label)\n",
    "n_pseudo=len(pseudo_label)\n",
    "print(\"golden success: \", golden_success)\n",
    "print(\"pseudo success: \", pseudo_success)\n",
    "print(\"golden size: \", n_golden)\n",
    "print(\"pseudo size: \", n_pseudo)"
   ]
  },
  {
   "cell_type": "code",
   "execution_count": 39,
   "id": "c1b2f169",
   "metadata": {},
   "outputs": [
    {
     "name": "stdout",
     "output_type": "stream",
     "text": [
      "golden ci:  0.234 0.248\n",
      "pseudo ci:  0.192 0.198\n",
      "golden ci width:  0.014\n",
      "pseudo ci width:  0.007\n",
      "concated ci:  0.201 0.207\n",
      "concated ci width:  0.006\n"
     ]
    }
   ],
   "source": [
    "golden_ci_low, golden_ci_high = proportion_confint(count=golden_success, nobs=n_golden, alpha=0.1, method='wilson')\n",
    "pseudo_ci_low, pseudo_ci_high = proportion_confint(count=pseudo_success, nobs=n_pseudo, alpha=0.1, method='wilson')\n",
    "concated_ci_low, concated_ci_high = proportion_confint(count=np.sum(concated_label), nobs=len(concated_label), alpha=0.1, method='wilson')\n",
    "print(\"golden ci: \", f\"{golden_ci_low:.3f}\", f\"{golden_ci_high:.3f}\")\n",
    "print(\"pseudo ci: \", f\"{pseudo_ci_low:.3f}\", f\"{pseudo_ci_high:.3f}\")\n",
    "print(\"golden ci width: \", f\"{golden_ci_high-golden_ci_low:.3f}\")\n",
    "print(\"pseudo ci width: \", f\"{pseudo_ci_high-pseudo_ci_low:.3f}\")\n",
    "print(\"concated ci: \", f\"{concated_ci_low:.3f}\", f\"{concated_ci_high:.3f}\")\n",
    "print(\"concated ci width: \", f\"{concated_ci_high-concated_ci_low:.3f}\")"
   ]
  },
  {
   "cell_type": "code",
   "execution_count": 15,
   "id": "6d1a8109",
   "metadata": {},
   "outputs": [],
   "source": [
    "import joblib\n",
    "model=joblib.load(\"xgb_model.pkl\")\n",
    "total_labeled=pd.read_csv(\"data/total_labeled.csv\")\n",
    "X_total=total_labeled.copy().drop(columns=['income'])\n",
    "income_pred=model.predict(X_total)\n",
    "total_labeled['income_pred']=income_pred\n",
    "imcome_pred_proba=model.predict_proba(X_total)[:,1]\n",
    "total_labeled['income_pred_proba']=imcome_pred_proba\n"
   ]
  },
  {
   "cell_type": "code",
   "execution_count": 16,
   "id": "2aef076f",
   "metadata": {},
   "outputs": [
    {
     "data": {
      "text/html": [
       "<div>\n",
       "<style scoped>\n",
       "    .dataframe tbody tr th:only-of-type {\n",
       "        vertical-align: middle;\n",
       "    }\n",
       "\n",
       "    .dataframe tbody tr th {\n",
       "        vertical-align: top;\n",
       "    }\n",
       "\n",
       "    .dataframe thead th {\n",
       "        text-align: right;\n",
       "    }\n",
       "</style>\n",
       "<table border=\"1\" class=\"dataframe\">\n",
       "  <thead>\n",
       "    <tr style=\"text-align: right;\">\n",
       "      <th></th>\n",
       "      <th>age</th>\n",
       "      <th>workclass</th>\n",
       "      <th>fnlwgt</th>\n",
       "      <th>education</th>\n",
       "      <th>education-num</th>\n",
       "      <th>marital-status</th>\n",
       "      <th>occupation</th>\n",
       "      <th>relationship</th>\n",
       "      <th>race</th>\n",
       "      <th>sex</th>\n",
       "      <th>capital-gain</th>\n",
       "      <th>capital-loss</th>\n",
       "      <th>hours-per-week</th>\n",
       "      <th>native-country</th>\n",
       "      <th>income</th>\n",
       "      <th>income_pred</th>\n",
       "      <th>income_pred_proba</th>\n",
       "    </tr>\n",
       "  </thead>\n",
       "  <tbody>\n",
       "    <tr>\n",
       "      <th>0</th>\n",
       "      <td>18</td>\n",
       "      <td>4</td>\n",
       "      <td>423024</td>\n",
       "      <td>11</td>\n",
       "      <td>9</td>\n",
       "      <td>4</td>\n",
       "      <td>8</td>\n",
       "      <td>1</td>\n",
       "      <td>4</td>\n",
       "      <td>1</td>\n",
       "      <td>0</td>\n",
       "      <td>0</td>\n",
       "      <td>20</td>\n",
       "      <td>39</td>\n",
       "      <td>0</td>\n",
       "      <td>0</td>\n",
       "      <td>0.002953</td>\n",
       "    </tr>\n",
       "    <tr>\n",
       "      <th>1</th>\n",
       "      <td>17</td>\n",
       "      <td>4</td>\n",
       "      <td>178953</td>\n",
       "      <td>2</td>\n",
       "      <td>8</td>\n",
       "      <td>4</td>\n",
       "      <td>12</td>\n",
       "      <td>3</td>\n",
       "      <td>4</td>\n",
       "      <td>0</td>\n",
       "      <td>0</td>\n",
       "      <td>0</td>\n",
       "      <td>20</td>\n",
       "      <td>39</td>\n",
       "      <td>0</td>\n",
       "      <td>0</td>\n",
       "      <td>0.003176</td>\n",
       "    </tr>\n",
       "    <tr>\n",
       "      <th>2</th>\n",
       "      <td>25</td>\n",
       "      <td>2</td>\n",
       "      <td>348986</td>\n",
       "      <td>11</td>\n",
       "      <td>9</td>\n",
       "      <td>4</td>\n",
       "      <td>6</td>\n",
       "      <td>2</td>\n",
       "      <td>2</td>\n",
       "      <td>1</td>\n",
       "      <td>0</td>\n",
       "      <td>0</td>\n",
       "      <td>40</td>\n",
       "      <td>39</td>\n",
       "      <td>0</td>\n",
       "      <td>0</td>\n",
       "      <td>0.007416</td>\n",
       "    </tr>\n",
       "    <tr>\n",
       "      <th>3</th>\n",
       "      <td>20</td>\n",
       "      <td>4</td>\n",
       "      <td>218215</td>\n",
       "      <td>15</td>\n",
       "      <td>10</td>\n",
       "      <td>4</td>\n",
       "      <td>12</td>\n",
       "      <td>3</td>\n",
       "      <td>4</td>\n",
       "      <td>0</td>\n",
       "      <td>0</td>\n",
       "      <td>0</td>\n",
       "      <td>30</td>\n",
       "      <td>39</td>\n",
       "      <td>0</td>\n",
       "      <td>0</td>\n",
       "      <td>0.002002</td>\n",
       "    </tr>\n",
       "    <tr>\n",
       "      <th>4</th>\n",
       "      <td>47</td>\n",
       "      <td>4</td>\n",
       "      <td>244025</td>\n",
       "      <td>11</td>\n",
       "      <td>9</td>\n",
       "      <td>4</td>\n",
       "      <td>7</td>\n",
       "      <td>4</td>\n",
       "      <td>0</td>\n",
       "      <td>1</td>\n",
       "      <td>0</td>\n",
       "      <td>0</td>\n",
       "      <td>56</td>\n",
       "      <td>33</td>\n",
       "      <td>0</td>\n",
       "      <td>0</td>\n",
       "      <td>0.033039</td>\n",
       "    </tr>\n",
       "  </tbody>\n",
       "</table>\n",
       "</div>"
      ],
      "text/plain": [
       "   age  workclass  fnlwgt  education  education-num  marital-status  \\\n",
       "0   18          4  423024         11              9               4   \n",
       "1   17          4  178953          2              8               4   \n",
       "2   25          2  348986         11              9               4   \n",
       "3   20          4  218215         15             10               4   \n",
       "4   47          4  244025         11              9               4   \n",
       "\n",
       "   occupation  relationship  race  sex  capital-gain  capital-loss  \\\n",
       "0           8             1     4    1             0             0   \n",
       "1          12             3     4    0             0             0   \n",
       "2           6             2     2    1             0             0   \n",
       "3          12             3     4    0             0             0   \n",
       "4           7             4     0    1             0             0   \n",
       "\n",
       "   hours-per-week  native-country  income  income_pred  income_pred_proba  \n",
       "0              20              39       0            0           0.002953  \n",
       "1              20              39       0            0           0.003176  \n",
       "2              40              39       0            0           0.007416  \n",
       "3              30              39       0            0           0.002002  \n",
       "4              56              33       0            0           0.033039  "
      ]
     },
     "execution_count": 16,
     "metadata": {},
     "output_type": "execute_result"
    }
   ],
   "source": [
    "total_labeled.head()"
   ]
  },
  {
   "cell_type": "code",
   "execution_count": 17,
   "id": "64602f0a",
   "metadata": {},
   "outputs": [],
   "source": [
    "total_labeled.to_csv(\"data/total_labeled_pred.csv\", index=False)"
   ]
  },
  {
   "cell_type": "code",
   "execution_count": 35,
   "id": "558ebfea",
   "metadata": {},
   "outputs": [
    {
     "name": "stdout",
     "output_type": "stream",
     "text": [
      "ppi ci:  0.235 0.246\n",
      "ppi ci width:  0.011\n"
     ]
    }
   ],
   "source": [
    "from ppi_py import ppi_mean_ci\n",
    "ppi_ci = ppi_mean_ci(\n",
    "    golden_label.to_numpy().reshape(-1, 1),\n",
    "    income_pred,\n",
    "    pseudo_label.to_numpy().reshape(-1, 1),\n",
    "    alpha=0.1\n",
    ")\n",
    "\n",
    "print(\"ppi ci: \", f\"{ppi_ci[0][0]:.3f}\", f\"{ppi_ci[1][0]:.3f}\")\n",
    "print(\"ppi ci width: \", f\"{ppi_ci[1][0]-ppi_ci[0][0]:.3f}\")"
   ]
  },
  {
   "cell_type": "code",
   "execution_count": null,
   "id": "85cdc120",
   "metadata": {},
   "outputs": [],
   "source": []
  }
 ],
 "metadata": {
  "kernelspec": {
   "display_name": "xgboost",
   "language": "python",
   "name": "python3"
  },
  "language_info": {
   "codemirror_mode": {
    "name": "ipython",
    "version": 3
   },
   "file_extension": ".py",
   "mimetype": "text/x-python",
   "name": "python",
   "nbconvert_exporter": "python",
   "pygments_lexer": "ipython3",
   "version": "3.10.16"
  }
 },
 "nbformat": 4,
 "nbformat_minor": 5
}
